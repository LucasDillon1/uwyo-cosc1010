{
 "cells": [
  {
   "cell_type": "code",
   "execution_count": 2,
   "metadata": {
    "slideshow": {
     "slide_type": "slide"
    }
   },
   "outputs": [
    {
     "name": "stdout",
     "output_type": "stream",
     "text": [
      "The capitol of Washington is Seattle\n",
      "{'Wyoming': 'Cheyenne', 'Colorado': 'Denver', 'Washington': 'Seattle'}\n"
     ]
    }
   ],
   "source": [
    "states = {\"Wyoming\":\"Cheyenne\",\"Colorado\":\"Denver\"}\n",
    "\n",
    "#Adding Washington to states, Seattle is the Capital.\n",
    "states[\"Washington\"] = \"Seattle\"\n",
    "\n",
    "print(f\"The capitol of Washington is {states[\"Washington\"]}\")\n",
    "\n",
    "print(states)"
   ]
  },
  {
   "cell_type": "code",
   "execution_count": 7,
   "metadata": {
    "slideshow": {
     "slide_type": "slide"
    }
   },
   "outputs": [
    {
     "name": "stdout",
     "output_type": "stream",
     "text": [
      "{'Wyoming': 'Cheyenne', 'Colorado': 'Denver'}\n",
      "Colorado is already in states! It has Denver as it's value.\n"
     ]
    }
   ],
   "source": [
    "states = {\"Wyoming\":\"Cheyenne\",\"Colorado\":\"Denver\"}\n",
    "print(states)\n",
    "states[\"Montana\"] = \"Helena\"\n",
    "\n",
    "#Replaces the value of Colorado (\"Denver\") with \"FOCO\".\n",
    "if \"Colorado\" in states.keys():\n",
    "    print(f\"Colorado is already in states! It has {states[\"Colorado\"]} as it's value.\")\n",
    "else:\n",
    "    states[\"Colorado\"] = \"FOCO\"\n",
    "    print(states)\n",
    "\n",
    "#Useful little keyword below:\n",
    "x = 1\n",
    "if x == 1:\n",
    "    pass #Makes nothing happen. Nice!\n",
    "else:\n",
    "    print(\"X != 1\")"
   ]
  },
  {
   "cell_type": "code",
   "execution_count": 2,
   "metadata": {},
   "outputs": [
    {
     "ename": "TypeError",
     "evalue": "list.append() takes exactly one argument (0 given)",
     "output_type": "error",
     "traceback": [
      "\u001b[0;31m---------------------------------------------------------------------------\u001b[0m",
      "\u001b[0;31mTypeError\u001b[0m                                 Traceback (most recent call last)",
      "Cell \u001b[0;32mIn[2], line 3\u001b[0m\n\u001b[1;32m      1\u001b[0m mylist \u001b[38;5;241m=\u001b[39m [\u001b[38;5;124m\"\u001b[39m\u001b[38;5;124mhi\u001b[39m\u001b[38;5;124m\"\u001b[39m,\u001b[38;5;124m\"\u001b[39m\u001b[38;5;124mthere\u001b[39m\u001b[38;5;124m\"\u001b[39m]\n\u001b[1;32m      2\u001b[0m mylist[\u001b[38;5;241m0\u001b[39m] \u001b[38;5;241m=\u001b[39m \u001b[38;5;124m\"\u001b[39m\u001b[38;5;124mnew\u001b[39m\u001b[38;5;124m\"\u001b[39m\n\u001b[0;32m----> 3\u001b[0m \u001b[43mmylist\u001b[49m\u001b[38;5;241;43m.\u001b[39;49m\u001b[43mappend\u001b[49m\u001b[43m(\u001b[49m\u001b[43m)\u001b[49m\n\u001b[1;32m      4\u001b[0m \u001b[38;5;28mprint\u001b[39m(mylist[\u001b[38;5;241m0\u001b[39m])\n",
      "\u001b[0;31mTypeError\u001b[0m: list.append() takes exactly one argument (0 given)"
     ]
    }
   ],
   "source": [
    "mylist = [\"hi\",\"there\"]\n",
    "mylist[0] = \"new\"\n",
    "mylist.append()\n",
    "print(mylist[0])"
   ]
  },
  {
   "cell_type": "code",
   "execution_count": 11,
   "metadata": {
    "slideshow": {
     "slide_type": "slide"
    }
   },
   "outputs": [
    {
     "name": "stdout",
     "output_type": "stream",
     "text": [
      "{}\n",
      "{'United States': 'Washington D.C', 'Canada': 'Ottawa', 'Brasil': 'Brasilia'}\n",
      "United States is already in countries!\n",
      "{'United States': 'Washington D.C', 'Canada': 'Ottawa', 'Brasil': 'Brasilia'}\n"
     ]
    }
   ],
   "source": [
    "countries = {}\n",
    "print(countries)\n",
    "countries[\"United States\"] = \"Washington D.C\"\n",
    "countries[\"Canada\"] = \"Ottawa\"\n",
    "\n",
    "country_var = \"Brasil\"\n",
    "country_capital = \"Brasilia\"\n",
    "\n",
    "countries[country_var] = country_capital\n",
    "print(countries)\n",
    "\n",
    "#Or, even better, take user input:\n",
    "suggestion1 = input(\"Input a country.\")\n",
    "if suggestion1 not in countries.keys():\n",
    "    suggestion2 = input(\"What is that country's capital?\")\n",
    "    countries[suggestion1] = suggestion2\n",
    "else:\n",
    "    print(f\"{suggestion1} is already in countries!\")\n",
    "print(countries)\n"
   ]
  },
  {
   "cell_type": "code",
   "execution_count": 1,
   "metadata": {
    "slideshow": {
     "slide_type": "slide"
    }
   },
   "outputs": [
    {
     "name": "stdout",
     "output_type": "stream",
     "text": [
      "{'Red': '#ff0000', 'Blue': '#0000ff', 'UW-Gold': '#492f24'}\n",
      "{'Red': '#ff0000', 'Blue': '#0000ff', 'UW-Gold': '#ffc425'}\n"
     ]
    }
   ],
   "source": [
    "colors = {\"Red\":\"#ff0000\",\"Blue\":\"#0000ff\",\"UW-Gold\":\"#492f24\"}\n",
    "print(colors)\n",
    "colors[\"UW-Gold\"] = \"#ffc425\"\n",
    "print(colors)"
   ]
  },
  {
   "cell_type": "code",
   "execution_count": 5,
   "metadata": {
    "slideshow": {
     "slide_type": "slide"
    }
   },
   "outputs": [
    {
     "name": "stdout",
     "output_type": "stream",
     "text": [
      "{'Red': '#ff0000', 'Blue': '#0000ff', 'UW-Gold': '#492f24'}\n",
      "{'Blue': '#0000ff', 'UW-Gold': '#492f24'}\n"
     ]
    }
   ],
   "source": [
    "colors = {\"Red\":\"#ff0000\",\"Blue\":\"#0000ff\",\"UW-Gold\":\"#492f24\"}\n",
    "print(colors) \n",
    "del colors[\"Red\"]\n",
    "print(colors)"
   ]
  },
  {
   "cell_type": "code",
   "execution_count": 12,
   "metadata": {
    "slideshow": {
     "slide_type": "slide"
    }
   },
   "outputs": [
    {
     "name": "stdout",
     "output_type": "stream",
     "text": [
      "University of Wyoming\n",
      "{'Name': 'University of Wyoming', 'City': 'Laramie', 'State': 'Wyoming', 'Founded': 1886, 'Students': '12_627', 'Size': 'Medium', 'Colors': 'Brown and Gold', 'Elevation': 7220}\n"
     ]
    }
   ],
   "source": [
    "university_of_wyoming = {\n",
    "    \"Name\": \"University of Wyoming\",\n",
    "    \"City\": \"Laramie\",\n",
    "    \"State\":\"Wyoming\",\n",
    "    \"Founded\":1886, \n",
    "    \"Students\":11_100,\n",
    "    \"Size\": \"Medium\", #One random fact about UW I added.\n",
    "    \"Colors\": \"Brown and Gold\" #Another random fact.\n",
    "}\n",
    "\n",
    "university_of_wyoming[\"Students\"] = \"12_627\" #Updating student count.\n",
    "\n",
    "print(university_of_wyoming[\"Name\"])\n",
    "university_of_wyoming[\"Elevation\"] = 7220\n",
    "print(university_of_wyoming)"
   ]
  },
  {
   "cell_type": "code",
   "execution_count": 13,
   "metadata": {
    "slideshow": {
     "slide_type": "slide"
    }
   },
   "outputs": [
    {
     "data": {
      "text/plain": [
       "\"That key wasn't found.\""
      ]
     },
     "execution_count": 13,
     "metadata": {},
     "output_type": "execute_result"
    }
   ],
   "source": [
    "colors = {} \n",
    "#print(colors[\"Blue\"]) This will give an error.\n",
    "\n",
    "#Instead, check if the key is in the dictionary first:\n",
    "colors.get(\"Blue\", \"That key wasn't found.\")"
   ]
  },
  {
   "cell_type": "code",
   "execution_count": 14,
   "metadata": {
    "slideshow": {
     "slide_type": "slide"
    }
   },
   "outputs": [
    {
     "name": "stdout",
     "output_type": "stream",
     "text": [
      "blue\n"
     ]
    }
   ],
   "source": [
    "colors = {\"Blue\":\"blue\"} \n",
    "print(colors.get(\"Blue\",\"That key wasn't found\"))\n",
    "\n",
    "if colors.get(\"UW-Gold\", 9999) == 9999: #Checks for \"UW-Gold\", returns 9999 as it did not find \"UW-Gold\". 9999 == 9999, so the if code block runs.\n",
    "    colors[\"UW-Gold\"] = \"#ffc425\" #Creates a key, \"UW-Gold\", and assigns it the value \"#ffc425\".\n",
    "else:\n",
    "    print(colors[\"UW-Gold\"])"
   ]
  },
  {
   "cell_type": "code",
   "execution_count": 12,
   "metadata": {
    "slideshow": {
     "slide_type": "slide"
    }
   },
   "outputs": [
    {
     "name": "stdout",
     "output_type": "stream",
     "text": [
      "Key: Name\n",
      "Value: University of Wyoming\n",
      "\n",
      "Key: City\n",
      "Value: Laramie\n",
      "\n",
      "Key: State\n",
      "Value: Wyoming\n",
      "\n",
      "Key: Founded\n",
      "Value: 1886\n",
      "\n",
      "Key: Students\n",
      "Value: 11100\n",
      "\n"
     ]
    }
   ],
   "source": [
    "university_of_wyoming = {\n",
    "    \"Name\": \"University of Wyoming\",\n",
    "    \"City\": \"Laramie\",\n",
    "    \"State\":\"Wyoming\",\n",
    "    \"Founded\":1886, \n",
    "    \"Students\":11_100\n",
    "}\n",
    "\n",
    "for key, value in university_of_wyoming.items(): #The method .items() returns two values, so you need two variables to match.\n",
    "    print(f\"Key: {key}\")\n",
    "    print(f\"Value: {value}\\n\")"
   ]
  },
  {
   "cell_type": "code",
   "execution_count": 18,
   "metadata": {
    "slideshow": {
     "slide_type": "slide"
    }
   },
   "outputs": [
    {
     "name": "stdout",
     "output_type": "stream",
     "text": [
      "The attributes available are: \n",
      "\n",
      "Key: Name\n",
      "Value: University of Wyoming\n",
      "\n",
      "Key: City\n",
      "Value: Laramie\n",
      "\n",
      "Key: State\n",
      "Value: Wyoming\n",
      "\n",
      "Key: Founded\n",
      "Value: 1886\n",
      "\n",
      "Key: Students\n",
      "Value: 11100\n",
      "\n"
     ]
    }
   ],
   "source": [
    "university_of_wyoming = {\n",
    "    \"Name\": \"University of Wyoming\",\n",
    "    \"City\": \"Laramie\",\n",
    "    \"State\":\"Wyoming\",\n",
    "    \"Founded\":1886, \n",
    "    \"Students\":11_100\n",
    "}\n",
    "\n",
    "#Another way to match the above code block's output, but with one variable.\n",
    "print(\"The attributes available are: \\n\")\n",
    "for key in university_of_wyoming.keys():\n",
    "    print(f\"Key: {key}\")\n",
    "    print(f\"Value: {university_of_wyoming[key]}\\n\")\n"
   ]
  },
  {
   "cell_type": "code",
   "execution_count": 4,
   "metadata": {
    "slideshow": {
     "slide_type": "slide"
    }
   },
   "outputs": [
    {
     "name": "stdout",
     "output_type": "stream",
     "text": [
      "University of Wyoming\n",
      "Laramie\n",
      "Wyoming\n",
      "1886\n",
      "11100\n"
     ]
    }
   ],
   "source": [
    "university_of_wyoming = {\n",
    "    \"Name\": \"University of Wyoming\",\n",
    "    \"City\": \"Laramie\",\n",
    "    \"State\":\"Wyoming\",\n",
    "    \"Founded\":1886, \n",
    "    \"Students\":11_100\n",
    "}\n",
    "\n",
    "for key in university_of_wyoming: #The default value returned in a for loop for a dictionary returns a key per loop. Just the keys.\n",
    "    print(university_of_wyoming[key])"
   ]
  },
  {
   "cell_type": "code",
   "execution_count": 16,
   "metadata": {
    "slideshow": {
     "slide_type": "slide"
    }
   },
   "outputs": [
    {
     "name": "stdout",
     "output_type": "stream",
     "text": [
      "University of Wyoming\n",
      "Laramie\n",
      "Wyoming\n",
      "1886\n",
      "11100\n"
     ]
    }
   ],
   "source": [
    "university_of_wyoming = {\n",
    "    \"Name\": \"University of Wyoming\",\n",
    "    \"City\": \"Laramie\",\n",
    "    \"State\":\"Wyoming\",\n",
    "    \"Founded\":1886, \n",
    "    \"Students\":11_100\n",
    "}\n",
    "for key in university_of_wyoming: #Runs for every key.\n",
    "    print(university_of_wyoming[key])\n",
    "\n",
    "if \"Elevation\" in university_of_wyoming.keys(): #Checks if \"Elevation\" is among the keys in the dictionary university_of_wyoming.\n",
    "    print(f\"UW's Elevation is {university_of_wyoming['Elevation']}\")"
   ]
  },
  {
   "cell_type": "code",
   "execution_count": 17,
   "metadata": {
    "slideshow": {
     "slide_type": "slide"
    }
   },
   "outputs": [
    {
     "name": "stdout",
     "output_type": "stream",
     "text": [
      "City\n",
      "Founded\n",
      "Name\n",
      "State\n",
      "Students\n"
     ]
    }
   ],
   "source": [
    "university_of_wyoming = {\n",
    "    \"Name\": \"University of Wyoming\",\n",
    "    \"City\": \"Laramie\",\n",
    "    \"State\":\"Wyoming\",\n",
    "    \"Founded\":1886, \n",
    "    \"Students\":11_100\n",
    "}\n",
    "\n",
    "for key in sorted(university_of_wyoming.keys()):\n",
    "    print(key)"
   ]
  },
  {
   "cell_type": "code",
   "execution_count": 18,
   "metadata": {
    "slideshow": {
     "slide_type": "slide"
    }
   },
   "outputs": [
    {
     "name": "stdout",
     "output_type": "stream",
     "text": [
      "University of Wyoming\n",
      "Laramie\n",
      "Wyoming\n",
      "1886\n",
      "11100\n"
     ]
    }
   ],
   "source": [
    "university_of_wyoming = {\n",
    "    \"Name\": \"University of Wyoming\",\n",
    "    \"City\": \"Laramie\",\n",
    "    \"State\":\"Wyoming\",\n",
    "    \"Founded\":1886, \n",
    "    \"Students\":11_100\n",
    "}\n",
    "\n",
    "for value in university_of_wyoming.values():\n",
    "    print(value)\n",
    "\n",
    "#Keys have to be unique, values do not. This means that it is very difficult to get keys from values."
   ]
  },
  {
   "cell_type": "code",
   "execution_count": 20,
   "metadata": {
    "slideshow": {
     "slide_type": "slide"
    }
   },
   "outputs": [
    {
     "name": "stdout",
     "output_type": "stream",
     "text": [
      "C#\n",
      "Ruby\n",
      "C++\n",
      "JavaScript\n",
      "Python\n",
      "Java\n",
      "\n",
      "----------\n",
      "\n",
      "South Dakota\n",
      "Washington\n",
      "Wyoming\n",
      "Nebraska\n"
     ]
    }
   ],
   "source": [
    "programming_languages = {\n",
    "    \"Alice\": \"Python\",\n",
    "    \"Bob\": \"JavaScript\",\n",
    "    \"Charlie\": \"Java\",\n",
    "    \"David\": \"C++\",\n",
    "    \"Eve\": \"Python\",\n",
    "    \"Frank\": \"Ruby\",\n",
    "    \"Grace\": \"JavaScript\",\n",
    "    \"Hank\": \"Python\",\n",
    "    \"Ivy\": \"Java\",\n",
    "    \"Jack\": \"C#\"\n",
    "}\n",
    "\n",
    "#Set is a useful function, in that it removes all duplicates and only returns unique values.\n",
    "\n",
    "\n",
    "for language in set(programming_languages.values()):\n",
    "    print(language)\n",
    "\n",
    "#Here's an additional example:\n",
    "print(\"\\n----------\\n\")\n",
    "name_state = {\"Lucas\": \"Washington\", \"Marit\": \"Nebraska\", \"Emma\": \"South Dakota\", \"John\": \"Wyoming\", \"Jason\": \"Wyoming\", \"Jackson\": \"Washington\", \"Jeremiah\": \"Nebraska\"}\n",
    "\n",
    "for state in set(name_state.values()):\n",
    "    print(state)"
   ]
  },
  {
   "cell_type": "code",
   "execution_count": 5,
   "metadata": {
    "slideshow": {
     "slide_type": "slide"
    }
   },
   "outputs": [
    {
     "ename": "TypeError",
     "evalue": "'tuple' object does not support item assignment",
     "output_type": "error",
     "traceback": [
      "\u001b[0;31m---------------------------------------------------------------------------\u001b[0m",
      "\u001b[0;31mTypeError\u001b[0m                                 Traceback (most recent call last)",
      "Cell \u001b[0;32mIn[5], line 4\u001b[0m\n\u001b[1;32m      2\u001b[0m lang_list[\u001b[38;5;241m0\u001b[39m] \u001b[38;5;241m=\u001b[39m \u001b[38;5;124m\"\u001b[39m\u001b[38;5;124mC++\u001b[39m\u001b[38;5;124m\"\u001b[39m\n\u001b[1;32m      3\u001b[0m lang_tupl \u001b[38;5;241m=\u001b[39m (\u001b[38;5;124m'\u001b[39m\u001b[38;5;124mPython\u001b[39m\u001b[38;5;124m'\u001b[39m,\u001b[38;5;124m'\u001b[39m\u001b[38;5;124mJulia\u001b[39m\u001b[38;5;124m'\u001b[39m,\u001b[38;5;124m'\u001b[39m\u001b[38;5;124mGo\u001b[39m\u001b[38;5;124m'\u001b[39m) \u001b[38;5;66;03m#this is a tuple \u001b[39;00m\n\u001b[0;32m----> 4\u001b[0m \u001b[43mlang_tupl\u001b[49m\u001b[43m[\u001b[49m\u001b[38;5;241;43m0\u001b[39;49m\u001b[43m]\u001b[49m \u001b[38;5;241m=\u001b[39m \u001b[38;5;124m\"\u001b[39m\u001b[38;5;124mC++\u001b[39m\u001b[38;5;124m\"\u001b[39m\n\u001b[1;32m      5\u001b[0m lang_set  \u001b[38;5;241m=\u001b[39m {\u001b[38;5;124m'\u001b[39m\u001b[38;5;124mPython\u001b[39m\u001b[38;5;124m'\u001b[39m,\u001b[38;5;124m'\u001b[39m\u001b[38;5;124mJulia\u001b[39m\u001b[38;5;124m'\u001b[39m,\u001b[38;5;124m'\u001b[39m\u001b[38;5;124mGo\u001b[39m\u001b[38;5;124m'\u001b[39m} \u001b[38;5;66;03m#this is a set\u001b[39;00m\n",
      "\u001b[0;31mTypeError\u001b[0m: 'tuple' object does not support item assignment"
     ]
    }
   ],
   "source": [
    "lang_list = ['Python','Julia','Go'] #this is a list \n",
    "lang_list[0] = \"C++\"\n",
    "lang_tupl = ('Python','Julia','Go') #this is a tuple \n",
    "lang_tupl[0] = \"C++\"\n",
    "lang_set  = {'Python','Julia','Go'} #this is a set"
   ]
  },
  {
   "cell_type": "code",
   "execution_count": 25,
   "metadata": {
    "slideshow": {
     "slide_type": "slide"
    }
   },
   "outputs": [
    {
     "name": "stdout",
     "output_type": "stream",
     "text": [
      "{'Name': 'University of Wyoming', 'City': 'Laramie', 'State': 'Wyoming', 'Founded': 1886, 'Students': 11100}\n",
      "{'Name': 'Colorado State University', 'City': 'Fort Collins', 'State': 'Colorado', 'Founded': 1870, 'Students': 33877}\n",
      "{'Name': 'Montana State University', 'City': 'Bozeman', 'State': 'Montana', 'Founded': 1893, 'Students': 16902}\n",
      "11100\n"
     ]
    }
   ],
   "source": [
    "university_of_wyoming = {\n",
    "    \"Name\": \"University of Wyoming\",\n",
    "    \"City\": \"Laramie\",\n",
    "    \"State\":\"Wyoming\",\n",
    "    \"Founded\":1886, \n",
    "    \"Students\":11_100\n",
    "}\n",
    "colorado_state_university = {\n",
    "    \"Name\": \"Colorado State University\",\n",
    "    \"City\": \"Fort Collins\",\n",
    "    \"State\": \"Colorado\",\n",
    "    \"Founded\": 1870,\n",
    "    \"Students\": 33_877\n",
    "}\n",
    "\n",
    "montana_state_university = {\n",
    "    \"Name\": \"Montana State University\",\n",
    "    \"City\": \"Bozeman\",\n",
    "    \"State\": \"Montana\",\n",
    "    \"Founded\": 1893,\n",
    "    \"Students\": 16_902\n",
    "}\n",
    "\n",
    "universities = [university_of_wyoming, colorado_state_university, montana_state_university]\n",
    "\n",
    "for university in universities:\n",
    "    print(university)\n",
    "\n",
    "\n",
    "#This was in the wrong place, but it does work.\n",
    "print(universities[0][\"Students\"])"
   ]
  },
  {
   "cell_type": "code",
   "execution_count": 23,
   "metadata": {
    "slideshow": {
     "slide_type": "slide"
    }
   },
   "outputs": [
    {
     "name": "stdout",
     "output_type": "stream",
     "text": [
      "{'name': 'Pistol Pete', 'email': 'pete@uwyo.edu', 'w#': 'W18860307'}\n",
      "{'name': 'Pistol Pete', 'email': 'pete@uwyo.edu', 'w#': 'W18860307'}\n",
      "{'name': 'Pistol Pete', 'email': 'pete@uwyo.edu', 'w#': 'W18860307'}\n",
      "{'name': 'Pistol Pete', 'email': 'pete@uwyo.edu', 'w#': 'W18860307'}\n",
      "{'name': 'Pistol Pete', 'email': 'pete@uwyo.edu', 'w#': 'W18860307'}\n"
     ]
    }
   ],
   "source": [
    "students = [] #decalre our empty list \n",
    "\n",
    "for student in range(30): #loop through 30 times\n",
    "    new_student = {'name':\"Pistol Pete\",\"email\":\"pete@uwyo.edu\",\"w#\":\"W18860307\"} # declare the default values\n",
    "    students.append(new_student)# add our new student\n",
    "\n",
    "for student in students[:5]: #go through the first 5 students\n",
    "    print(student) #print"
   ]
  },
  {
   "cell_type": "code",
   "execution_count": 27,
   "metadata": {
    "slideshow": {
     "slide_type": "slide"
    }
   },
   "outputs": [
    {
     "name": "stdout",
     "output_type": "stream",
     "text": [
      "{'name': 'Cowboy Joe', 'email': 'cj@uwyo.edu', 'w#': 'W03071886'}\n",
      "{'name': 'Cowboy Joe', 'email': 'cj@uwyo.edu', 'w#': 'W03071886'}\n",
      "{'name': 'Cowboy Joe', 'email': 'cj@uwyo.edu', 'w#': 'W03071886'}\n",
      "{'name': 'Pistol Pete', 'email': 'pete@uwyo.edu', 'w#': 'W18860307'}\n",
      "{'name': 'Pistol Pete', 'email': 'pete@uwyo.edu', 'w#': 'W18860307'}\n"
     ]
    }
   ],
   "source": [
    "students = [] #decalre our empty list \n",
    "\n",
    "for student in range(30): #loop through 30 times\n",
    "    new_student = {'name':\"Pistol Pete\",\"email\":\"pete@uwyo.edu\",\"w#\":\"W18860307\"} # declare the default values\n",
    "    students.append(new_student)# add our new student\n",
    "\n",
    "for student in students[:3]:\n",
    "    student[\"name\"] = \"Cowboy Joe\"\n",
    "    student[\"email\"] = \"cj@uwyo.edu\"\n",
    "    student[\"w#\"] = \"W03071886\"\n",
    "\n",
    "for student in students[:5]:\n",
    "    print(student)"
   ]
  },
  {
   "cell_type": "code",
   "execution_count": 26,
   "metadata": {
    "slideshow": {
     "slide_type": "slide"
    }
   },
   "outputs": [
    {
     "name": "stdout",
     "output_type": "stream",
     "text": [
      "{'Name': 'University of Wyoming', 'City': 'Laramie', 'State': 'Wyoming', 'Founded': 1886, 'Students': 11100, 'Colleges': ['Agriculture', 'Arts and Sciences', 'Business', 'Education', 'Engineering and Physical Science']}\n",
      "Engineering and Physical Science\n"
     ]
    }
   ],
   "source": [
    "university_of_wyoming = {\n",
    "    \"Name\": \"University of Wyoming\",\n",
    "    \"City\": \"Laramie\",\n",
    "    \"State\":\"Wyoming\",\n",
    "    \"Founded\":1886, \n",
    "    \"Students\":11_100,\n",
    "    \"Colleges\": [\"Agriculture\",\"Arts and Sciences\",\"Business\",\"Education\",\"Engineering and Physical Science\"]\n",
    "}\n",
    "\n",
    "print(university_of_wyoming)\n",
    "\n",
    "#Here's the correct one:\n",
    "print(university_of_wyoming[\"Colleges\"][4])"
   ]
  },
  {
   "cell_type": "code",
   "execution_count": 48,
   "metadata": {
    "slideshow": {
     "slide_type": "slide"
    }
   },
   "outputs": [
    {
     "name": "stdout",
     "output_type": "stream",
     "text": [
      "Name:    \tUniversity of Wyoming\n",
      "City:    \tLaramie\n",
      "State:    \tWyoming\n",
      "Founded:    \t1886\n",
      "Students:    \t11100\n",
      "Colleges:\n",
      "\t\tAgriculture\n",
      "\t\tArts and Sciences\n",
      "\t\tBusiness\n",
      "\t\tEducation\n",
      "\t\tEngineering and Physical Science\n"
     ]
    }
   ],
   "source": [
    "university_of_wyoming = {\n",
    "    \"Name\": \"University of Wyoming\",\n",
    "    \"City\": \"Laramie\",\n",
    "    \"State\":\"Wyoming\",\n",
    "    \"Founded\":1886, \n",
    "    \"Students\":11_100,\n",
    "    \"Colleges\": [\"Agriculture\",\"Arts and Sciences\",\"Business\",\"Education\",\"Engineering and Physical Science\"]\n",
    "}\n",
    "\n",
    "for key in university_of_wyoming:\n",
    "    if type(university_of_wyoming[key]) is list:\n",
    "        print(f\"{key}:\")\n",
    "        for elem in university_of_wyoming[key]:\n",
    "            print(f\"\\t\\t{elem}\")\n",
    "    else:\n",
    "        print(f\"{key}:    \\t{university_of_wyoming[key]}\")"
   ]
  },
  {
   "cell_type": "code",
   "execution_count": 51,
   "metadata": {
    "slideshow": {
     "slide_type": "slide"
    }
   },
   "outputs": [
    {
     "name": "stdout",
     "output_type": "stream",
     "text": [
      "username: cowboyjoe\n",
      "Name: Cowboy Joe\n",
      "\n",
      "username: pistolpete\n",
      "Name: Pistol Pete\n",
      "\n"
     ]
    }
   ],
   "source": [
    "users = {\n",
    "    \"cowboyjoe\": {\n",
    "        'first': \"cowboy\",\n",
    "        'last' : 'joe'\n",
    "    },\n",
    "    \"pistolpete\":{\n",
    "        'first': 'pistol',\n",
    "        'last': 'pete'\n",
    "    }\n",
    "}\n",
    "\n",
    "for username, user_info in users.items():\n",
    "    print(f\"username: {username}\")\n",
    "    full_name = f\"{user_info['first']} {user_info['last']}\"\n",
    "    print(f\"Name: {full_name.title()}\\n\")"
   ]
  },
  {
   "cell_type": "code",
   "execution_count": 8,
   "metadata": {},
   "outputs": [
    {
     "name": "stdout",
     "output_type": "stream",
     "text": [
      "cowboy\n"
     ]
    }
   ],
   "source": [
    "users = {\n",
    "    \"cowboyjoe\": {\n",
    "        'first': \"cowboy\",\n",
    "        'last': 'joe'\n",
    "    },\n",
    "    \"pistolpete\": {\n",
    "        'first': 'pistol',\n",
    "        'last': 'pete'\n",
    "    }\n",
    "}\n",
    "sub_dict = users['cowboyjoe']\n",
    "\n",
    "print(users['cowboyjoe']['first'])"
   ]
  },
  {
   "cell_type": "code",
   "execution_count": 52,
   "metadata": {
    "slideshow": {
     "slide_type": "slide"
    }
   },
   "outputs": [
    {
     "name": "stdout",
     "output_type": "stream",
     "text": [
      "username: cowboyjoe\n",
      "first: cowboy\n",
      "last: joe\n",
      "\n",
      "username: pistolpete\n",
      "first: pistol\n",
      "last: pete\n",
      "\n"
     ]
    }
   ],
   "source": [
    "users = {\n",
    "    \"cowboyjoe\": {\n",
    "        'first': \"cowboy\",\n",
    "        'last' : 'joe'\n",
    "    },\n",
    "    \"pistolpete\":{\n",
    "        'first': 'pistol',\n",
    "        'last': 'pete'\n",
    "    }\n",
    "}\n",
    "\n",
    "for username, user_info in users.items():\n",
    "    print(f\"username: {username}\")\n",
    "    for key, value in user_info.items():\n",
    "        print(f\"{key}: {value}\")\n",
    "    print()"
   ]
  }
 ],
 "metadata": {
  "celltoolbar": "Slideshow",
  "kernelspec": {
   "display_name": "Python 3",
   "language": "python",
   "name": "python3"
  },
  "language_info": {
   "codemirror_mode": {
    "name": "ipython",
    "version": 3
   },
   "file_extension": ".py",
   "mimetype": "text/x-python",
   "name": "python",
   "nbconvert_exporter": "python",
   "pygments_lexer": "ipython3",
   "version": "3.12.1"
  }
 },
 "nbformat": 4,
 "nbformat_minor": 2
}
