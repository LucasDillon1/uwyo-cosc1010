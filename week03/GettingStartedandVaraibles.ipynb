{
 "cells": [
  {
   "cell_type": "code",
   "execution_count": 1,
   "metadata": {
    "slideshow": {
     "slide_type": "slide"
    }
   },
   "outputs": [
    {
     "name": "stdout",
     "output_type": "stream",
     "text": [
      "Lucas Dillon\n"
     ]
    }
   ],
   "source": [
    "# Lucas Dillon\n",
    "# COSC 1010\n",
    "# 9-11-24\n",
    "# Lab Section: I do not know, but the CRN is 11159 and the time is 5:10 to 7:00 on Wednesdays.\n",
    "# Sources used: https://www.geeksforgeeks.org/how-to-convert-float-to-int-in-python/\n",
    "\n",
    "print(\"Lucas Dillon\")"
   ]
  },
  {
   "cell_type": "code",
   "execution_count": 10,
   "metadata": {
    "slideshow": {
     "slide_type": "slide"
    }
   },
   "outputs": [
    {
     "name": "stdout",
     "output_type": "stream",
     "text": [
      "Lucas Dillon\n",
      "Go Pokes\n"
     ]
    }
   ],
   "source": [
    "message = \"Lucas Dillon\"\n",
    "message2 = \"Go Pokes\"\n",
    "print(message)\n",
    "print(message2)"
   ]
  },
  {
   "cell_type": "code",
   "execution_count": 15,
   "metadata": {
    "slideshow": {
     "slide_type": "slide"
    }
   },
   "outputs": [
    {
     "name": "stdout",
     "output_type": "stream",
     "text": [
      "Hello World\n",
      "Hi there COSC1010\n"
     ]
    }
   ],
   "source": [
    "# Assign \"Hello World\" to our variable\n",
    "message = \"Hello World\"\n",
    "#Print out the message \n",
    "print(message)\n",
    "\n",
    "#Now, we are going to assign a new message to the same variable \n",
    "message = \"Hi there COSC1010\"\n",
    "print(message)"
   ]
  },
  {
   "cell_type": "code",
   "execution_count": 14,
   "metadata": {
    "slideshow": {
     "slide_type": "slide"
    }
   },
   "outputs": [
    {
     "ename": "NameError",
     "evalue": "name 'emssage' is not defined",
     "output_type": "error",
     "traceback": [
      "\u001b[0;31m---------------------------------------------------------------------------\u001b[0m",
      "\u001b[0;31mNameError\u001b[0m                                 Traceback (most recent call last)",
      "Cell \u001b[0;32mIn[14], line 4\u001b[0m\n\u001b[1;32m      2\u001b[0m message \u001b[38;5;241m=\u001b[39m \u001b[38;5;124m\"\u001b[39m\u001b[38;5;124mGo Pokes!\u001b[39m\u001b[38;5;124m\"\u001b[39m\n\u001b[1;32m      3\u001b[0m \u001b[38;5;66;03m#now print that message, intentionally misspelling message\u001b[39;00m\n\u001b[0;32m----> 4\u001b[0m \u001b[38;5;28mprint\u001b[39m(\u001b[43memssage\u001b[49m) \n",
      "\u001b[0;31mNameError\u001b[0m: name 'emssage' is not defined"
     ]
    }
   ],
   "source": [
    "# assign a message\n",
    "message = \"Go Pokes!\"\n",
    "#now print that message, intentionally misspelling message\n",
    "print(emssage) "
   ]
  },
  {
   "cell_type": "code",
   "execution_count": 3,
   "metadata": {
    "slideshow": {
     "slide_type": "slide"
    }
   },
   "outputs": [
    {
     "name": "stdout",
     "output_type": "stream",
     "text": [
      "Ada Lovelace\n",
      "I Am Title Cased\n",
      "I Am Title Cased\n"
     ]
    }
   ],
   "source": [
    "name = \"ada lovelace\"\n",
    "print(name.title())\n",
    "#.title is a method.\n",
    "\n",
    "examplevariable = \"i am title cased\"\n",
    "\n",
    "print(examplevariable.title())\n",
    "\n",
    "examplevariable = examplevariable.title()\n",
    "\n",
    "print(examplevariable)"
   ]
  },
  {
   "cell_type": "code",
   "execution_count": 7,
   "metadata": {
    "slideshow": {
     "slide_type": "slide"
    }
   },
   "outputs": [
    {
     "name": "stdout",
     "output_type": "stream",
     "text": [
      "ADA LOVELACE\n",
      "ada lovelace\n"
     ]
    }
   ],
   "source": [
    "name = \"Ada Lovelace\"\n",
    "print(name.upper())\n",
    "print(name.lower())"
   ]
  },
  {
   "cell_type": "code",
   "execution_count": 4,
   "metadata": {
    "slideshow": {
     "slide_type": "slide"
    }
   },
   "outputs": [
    {
     "name": "stdout",
     "output_type": "stream",
     "text": [
      "ADA Lovelace\n"
     ]
    }
   ],
   "source": [
    "first_name = \"ada\"\n",
    "last_name = \"lovelace\"\n",
    "full_name = f\"{first_name.upper()} {last_name.title()}\"\n",
    "print(full_name)"
   ]
  },
  {
   "cell_type": "code",
   "execution_count": 4,
   "metadata": {
    "slideshow": {
     "slide_type": "slide"
    }
   },
   "outputs": [
    {
     "name": "stdout",
     "output_type": "stream",
     "text": [
      "Hello There, Ada Lovelace\n"
     ]
    }
   ],
   "source": [
    "first_name = \"ada\"\n",
    "last_name = \"lovelace\"\n",
    "full_name = f\"{first_name} {last_name}\"\n",
    "print(f\"Hello There, {full_name.title()}\")"
   ]
  },
  {
   "cell_type": "code",
   "execution_count": 6,
   "metadata": {
    "slideshow": {
     "slide_type": "slide"
    }
   },
   "outputs": [
    {
     "name": "stdout",
     "output_type": "stream",
     "text": [
      "python\n",
      "\tpython\n",
      "--------------\n",
      "pythonpython\n",
      "python\n",
      "python\n",
      "--------------\n",
      "python\n",
      "\tpython\n",
      "--------------\n",
      "python\n",
      "\n",
      "\n",
      "python\n"
     ]
    }
   ],
   "source": [
    "print(\"python\")\n",
    "print(\"\\tpython\")\n",
    "\n",
    "print(\"--------------\")\n",
    "print(\"pythonpython\")\n",
    "print(\"python\\npython\")\n",
    "print(\"--------------\")\n",
    "print(\"python\\n\\tpython\")\n",
    "\n",
    "print(\"--------------\")\n",
    "print(\"python\\n\\n\\npython\")"
   ]
  },
  {
   "cell_type": "code",
   "execution_count": 8,
   "metadata": {
    "slideshow": {
     "slide_type": "slide"
    }
   },
   "outputs": [
    {
     "name": "stdout",
     "output_type": "stream",
     "text": [
      "py    thon\n",
      "python\n"
     ]
    }
   ],
   "source": [
    "string_one = \"py    \"\n",
    "string_two = \"thon\"\n",
    "\n",
    "print(f\"{string_one}{string_two}\")\n",
    "print(f\"{string_one.rstrip()}{string_two}\")"
   ]
  },
  {
   "cell_type": "code",
   "execution_count": 9,
   "metadata": {
    "slideshow": {
     "slide_type": "slide"
    }
   },
   "outputs": [
    {
     "name": "stdout",
     "output_type": "stream",
     "text": [
      "py    thon\n",
      "python\n",
      "py    thon\n",
      "python\n"
     ]
    }
   ],
   "source": [
    "string_one = \"py    \"\n",
    "string_two = \"thon\"\n",
    "\n",
    "print(f\"{string_one}{string_two}\")\n",
    "print(f\"{string_one.rstrip()}{string_two}\")\n",
    "\n",
    "print(f\"{string_one}{string_two}\")\n",
    "\n",
    "string_one = string_one.rstrip()\n",
    "print(f\"{string_one}{string_two}\")"
   ]
  },
  {
   "cell_type": "code",
   "execution_count": 10,
   "metadata": {
    "slideshow": {
     "slide_type": "slide"
    }
   },
   "outputs": [
    {
     "name": "stdout",
     "output_type": "stream",
     "text": [
      "py    thon\n",
      "python\n",
      "*   python   *\n",
      "*python*\n"
     ]
    }
   ],
   "source": [
    "string_one = \"py\"\n",
    "string_two = \"    thon\"\n",
    "print(f\"{string_one}{string_two}\")\n",
    "print(f\"{string_one}{string_two.lstrip()}\")\n",
    "\n",
    "string_three = \"   python   \"\n",
    "print(f\"*{string_three}*\")\n",
    "print(f\"*{string_three.strip()}*\")"
   ]
  },
  {
   "cell_type": "code",
   "execution_count": 9,
   "metadata": {
    "slideshow": {
     "slide_type": "slide"
    }
   },
   "outputs": [
    {
     "name": "stdout",
     "output_type": "stream",
     "text": [
      "https://wyoweb.uwyo.edu/\n",
      ".uwyo.edu/\n"
     ]
    }
   ],
   "source": [
    "wyoweb = \"https://wyoweb.uwyo.edu/\"\n",
    "print(wyoweb)\n",
    "\n",
    "\n",
    "\n",
    "print(wyoweb.removeprefix(\"https://wyoweb\"))\n",
    "\n",
    "wyoweb_repeated = \"https://wyoweb.uwyo.edu/https://wyoweb.uwyo.edu/\"\n",
    "\n"
   ]
  },
  {
   "cell_type": "code",
   "execution_count": 1,
   "metadata": {
    "slideshow": {
     "slide_type": "slide"
    }
   },
   "outputs": [
    {
     "ename": "SyntaxError",
     "evalue": "unterminated string literal (detected at line 1) (2126449204.py, line 1)",
     "output_type": "error",
     "traceback": [
      "\u001b[0;36m  Cell \u001b[0;32mIn[1], line 1\u001b[0;36m\u001b[0m\n\u001b[0;31m    print('cause the western folks all know, he's a high-falootin', rootin, tootin', ')\u001b[0m\n\u001b[0m                                                                                     ^\u001b[0m\n\u001b[0;31mSyntaxError\u001b[0m\u001b[0;31m:\u001b[0m unterminated string literal (detected at line 1)\n"
     ]
    }
   ],
   "source": [
    "print('cause the western folks all know, he's a high-falootin', rootin, tootin', ')"
   ]
  },
  {
   "cell_type": "code",
   "execution_count": 13,
   "metadata": {
    "slideshow": {
     "slide_type": "slide"
    }
   },
   "outputs": [
    {
     "name": "stdout",
     "output_type": "stream",
     "text": [
      "14\n",
      "20\n",
      "8\n",
      "7220\n"
     ]
    }
   ],
   "source": [
    "x = 2+3*4\n",
    "print(x)\n",
    "y = (2+3)*4\n",
    "print(y)\n",
    "\n",
    "print(2**3)\n",
    "\n",
    "print(int(7220/4*(8/2)))"
   ]
  },
  {
   "cell_type": "code",
   "execution_count": 17,
   "metadata": {
    "slideshow": {
     "slide_type": "slide"
    }
   },
   "outputs": [
    {
     "name": "stdout",
     "output_type": "stream",
     "text": [
      "0.2\n",
      "0.4\n",
      "0.2\n"
     ]
    }
   ],
   "source": [
    "x = 0.1 + 0.1\n",
    "print(x)\n",
    "\n",
    "y = 0.2 + 0.2\n",
    "print(y)\n",
    "\n",
    "z = 2 * 0.1\n",
    "print(z)"
   ]
  },
  {
   "cell_type": "code",
   "execution_count": 19,
   "metadata": {
    "slideshow": {
     "slide_type": "slide"
    }
   },
   "outputs": [
    {
     "name": "stdout",
     "output_type": "stream",
     "text": [
      "0.30000000000000004\n",
      "0.30000000000000004\n"
     ]
    }
   ],
   "source": [
    "x = 0.1 + 0.2\n",
    "print(x)\n",
    "\n",
    "y = 3 * 0.1\n",
    "print(y)"
   ]
  },
  {
   "cell_type": "code",
   "execution_count": 21,
   "metadata": {
    "slideshow": {
     "slide_type": "slide"
    }
   },
   "outputs": [
    {
     "name": "stdout",
     "output_type": "stream",
     "text": [
      "2.0\n",
      "3.0\n",
      "6.0\n",
      "9.0\n"
     ]
    }
   ],
   "source": [
    "print(4/2)\n",
    "print(1+2.0)\n",
    "print(2*3.0)\n",
    "print(3.0**2)"
   ]
  },
  {
   "cell_type": "code",
   "execution_count": 22,
   "metadata": {
    "slideshow": {
     "slide_type": "slide"
    }
   },
   "outputs": [
    {
     "name": "stdout",
     "output_type": "stream",
     "text": [
      "14000000000\n"
     ]
    }
   ],
   "source": [
    "universe_age = 14_000_000_000\n",
    "print(universe_age)"
   ]
  },
  {
   "cell_type": "code",
   "execution_count": 25,
   "metadata": {
    "slideshow": {
     "slide_type": "slide"
    }
   },
   "outputs": [
    {
     "name": "stdout",
     "output_type": "stream",
     "text": [
      "1 2 3\n"
     ]
    }
   ],
   "source": [
    "x,y,z = 1,2,3 \n",
    "print(x,y,z)"
   ]
  },
  {
   "cell_type": "markdown",
   "metadata": {},
   "source": []
  },
  {
   "cell_type": "code",
   "execution_count": 4,
   "metadata": {},
   "outputs": [
    {
     "ename": "SyntaxError",
     "evalue": "invalid decimal literal (2727263771.py, line 13)",
     "output_type": "error",
     "traceback": [
      "\u001b[0;36m  Cell \u001b[0;32mIn[4], line 13\u001b[0;36m\u001b[0m\n\u001b[0;31m    1st_variable = 10\u001b[0m\n\u001b[0m    ^\u001b[0m\n\u001b[0;31mSyntaxError\u001b[0m\u001b[0;31m:\u001b[0m invalid decimal literal\n"
     ]
    }
   ],
   "source": [
    "# Lucas Dillon\n",
    "# COSC 1010\n",
    "# 9-11-24\n",
    "# Lab Section: I do not know, but the CRN is 11159 and the time is 5:10 to 7:00 on Wednesdays.\n",
    "# Sources used: None\n",
    "\n",
    "x,y = 8,4\n",
    "\n",
    "print(x/y)\n",
    "\n",
    "_my_name = \"Lucas Dillon\"\n",
    "\n",
    "1st_variable = 10\n",
    "\n",
    "print(_my_name)\n",
    "\n",
    "print(1st_variable)"
   ]
  }
 ],
 "metadata": {
  "celltoolbar": "Slideshow",
  "kernelspec": {
   "display_name": "Python 3 (ipykernel)",
   "language": "python",
   "name": "python3"
  },
  "language_info": {
   "codemirror_mode": {
    "name": "ipython",
    "version": 3
   },
   "file_extension": ".py",
   "mimetype": "text/x-python",
   "name": "python",
   "nbconvert_exporter": "python",
   "pygments_lexer": "ipython3",
   "version": "3.12.1"
  }
 },
 "nbformat": 4,
 "nbformat_minor": 2
}
