{
 "cells": [
  {
   "cell_type": "code",
   "execution_count": 2,
   "metadata": {
    "slideshow": {
     "slide_type": "slide"
    }
   },
   "outputs": [
    {
     "name": "stdout",
     "output_type": "stream",
     "text": [
      "['trek', 'cannondale', 'specialized', 'giant', 'cervelo', 'mountain']\n"
     ]
    }
   ],
   "source": [
    "# create our list of bikes \n",
    "bikes = [\"trek\",\"cannondale\",\"specialized\", \"giant\", \"cervelo\", \"mountain\"]\n",
    "# and print the list \n",
    "print(bikes)"
   ]
  },
  {
   "cell_type": "code",
   "execution_count": 4,
   "metadata": {
    "slideshow": {
     "slide_type": "slide"
    }
   },
   "outputs": [
    {
     "name": "stdout",
     "output_type": "stream",
     "text": [
      "trek\n"
     ]
    }
   ],
   "source": [
    "bikes = [\"trek\",\"cannondale\",\"specialized\"]\n",
    "print(bikes[0])"
   ]
  },
  {
   "cell_type": "code",
   "execution_count": 7,
   "metadata": {
    "slideshow": {
     "slide_type": "slide"
    }
   },
   "outputs": [
    {
     "name": "stdout",
     "output_type": "stream",
     "text": [
      "Trek\n",
      "Trek\n"
     ]
    }
   ],
   "source": [
    "bikes = [\"trek\",\"cannondale\",\"specialized\"]\n",
    "print(bikes[0].title())\n",
    "\n",
    "bike = bikes[0]\n",
    "print(bike.title())"
   ]
  },
  {
   "cell_type": "code",
   "execution_count": 4,
   "metadata": {
    "slideshow": {
     "slide_type": "slide"
    }
   },
   "outputs": [
    {
     "name": "stdout",
     "output_type": "stream",
     "text": [
      "Specialized\n"
     ]
    }
   ],
   "source": [
    "bikes = [\"trek\",\"cannondale\",\"specialized\"]\n",
    "print(bikes[-1].title())"
   ]
  },
  {
   "cell_type": "code",
   "execution_count": 5,
   "metadata": {
    "slideshow": {
     "slide_type": "slide"
    }
   },
   "outputs": [
    {
     "name": "stdout",
     "output_type": "stream",
     "text": [
      "My first bike was a Trek\n"
     ]
    }
   ],
   "source": [
    "bikes = [\"trek\",\"cannondale\",\"specialized\"]\n",
    "message = f\"My first bike was a {bikes[0].title()}\"\n",
    "print(message)"
   ]
  },
  {
   "cell_type": "code",
   "execution_count": 12,
   "metadata": {
    "slideshow": {
     "slide_type": "slide"
    }
   },
   "outputs": [
    {
     "name": "stdout",
     "output_type": "stream",
     "text": [
      "['Laramie', 'Casper', 'Jackson Hole', 'Cheyenne']\n",
      "['Laramie', 'Casper', 'Jackson Hole', 'Sheridan']\n",
      "['Laramie', 'Gillette', 'Jacksonville', 'Sheridan']\n",
      "Laramie\n",
      "Gillette\n",
      "Jacksonville\n",
      "Sheridan\n"
     ]
    }
   ],
   "source": [
    "cities = [\"Laramie\",\"Casper\",\"Jackson Hole\",\"Cheyenne\"]\n",
    "print(cities)\n",
    "\n",
    "cities[3] = \"Sheridan\"\n",
    "print(cities)\n",
    "\n",
    "cities[2] = \"Jacksonville\"\n",
    "cities[1] = \"Gillette\"\n",
    "\n",
    "print(cities)\n",
    "\n",
    "i = 0\n",
    "while i < len(cities):\n",
    "    if i < len(cities):\n",
    "        print(cities[i])\n",
    "    i += 1"
   ]
  },
  {
   "cell_type": "code",
   "execution_count": 2,
   "metadata": {
    "slideshow": {
     "slide_type": "slide"
    }
   },
   "outputs": [
    {
     "name": "stdout",
     "output_type": "stream",
     "text": [
      "['Laramie', 'Casper', 'Jackson Hole', 'Cheyenne']\n",
      "['Laramie', 'Casper', 'Jackson Hole', 'Cheyenne', 'Sheridan']\n"
     ]
    }
   ],
   "source": [
    "cities = [\"Laramie\",\"Casper\",\"Jackson Hole\",\"Cheyenne\"]\n",
    "print(cities)\n",
    "\n",
    "cities.append(\"Sheridan\")\n",
    "print(cities)"
   ]
  },
  {
   "cell_type": "code",
   "execution_count": 20,
   "metadata": {
    "slideshow": {
     "slide_type": "slide"
    }
   },
   "outputs": [
    {
     "name": "stdout",
     "output_type": "stream",
     "text": [
      "['dog', 'cat', 'bird']\n",
      "What is your input?\n",
      "['dog', 'cat', 'bird', 'goose']\n"
     ]
    }
   ],
   "source": [
    "#declare the empty list\n",
    "animals = [] \n",
    "#now add in different animals\n",
    "animals.append(\"dog\")\n",
    "animals.append(\"cat\")\n",
    "animals.append(\"bird\")\n",
    "\n",
    "print(animals)\n",
    "\n",
    "animal = str(input(print(\"What is your animal?\")))\n",
    "animals.append(animal)\n",
    "print(animals)"
   ]
  },
  {
   "cell_type": "code",
   "execution_count": 23,
   "metadata": {
    "slideshow": {
     "slide_type": "slide"
    }
   },
   "outputs": [
    {
     "name": "stdout",
     "output_type": "stream",
     "text": [
      "['Laramie', 'Casper', 'Jackson Hole', 'Cheyenne']\n",
      "['Laramie', 'Sheridan', 'Casper', 'Jackson Hole', 'Cheyenne']\n",
      "['Laramie', 'Casper', 'Sheridan', 'Jackson Hole', 'Cheyenne']\n",
      "['Laramie', 'Casper', 'Jackson Hole', 'Sheridan', 'Cheyenne']\n",
      "['Laramie', 'Casper', 'Jackson Hole', 'Cheyenne', 'Sheridan']\n"
     ]
    }
   ],
   "source": [
    "cities = [\"Laramie\",\"Casper\",\"Jackson Hole\",\"Cheyenne\"]\n",
    "print(cities)\n",
    "\n",
    "cities.insert(1,\"Sheridan\")\n",
    "print(cities)\n",
    "\n",
    "cities.remove(\"Sheridan\")\n",
    "cities.insert(2, \"Sheridan\")\n",
    "print(cities)\n",
    "\n",
    "cities.remove(\"Sheridan\")\n",
    "cities.insert(3, \"Sheridan\")\n",
    "print(cities)\n",
    "\n",
    "cities.remove(\"Sheridan\")\n",
    "cities.insert(4, \"Sheridan\")\n",
    "print(cities)\n"
   ]
  },
  {
   "cell_type": "code",
   "execution_count": 24,
   "metadata": {
    "slideshow": {
     "slide_type": "slide"
    }
   },
   "outputs": [
    {
     "name": "stdout",
     "output_type": "stream",
     "text": [
      "['Laramie', 'Casper', 'Jackson Hole', 'Cheyenne']\n",
      "['Laramie', 'Jackson Hole', 'Cheyenne']\n",
      "['Laramie', 'Cheyenne']\n",
      "['Laramie']\n"
     ]
    },
    {
     "ename": "IndexError",
     "evalue": "list assignment index out of range",
     "output_type": "error",
     "traceback": [
      "\u001b[0;31m---------------------------------------------------------------------------\u001b[0m",
      "\u001b[0;31mIndexError\u001b[0m                                Traceback (most recent call last)",
      "Cell \u001b[0;32mIn[24], line 14\u001b[0m\n\u001b[1;32m     11\u001b[0m \u001b[38;5;28;01mdel\u001b[39;00m cities[\u001b[38;5;241m1\u001b[39m]\n\u001b[1;32m     12\u001b[0m \u001b[38;5;28mprint\u001b[39m(cities)\n\u001b[0;32m---> 14\u001b[0m \u001b[38;5;28;01mdel\u001b[39;00m \u001b[43mcities\u001b[49m\u001b[43m[\u001b[49m\u001b[38;5;241;43m1\u001b[39;49m\u001b[43m]\u001b[49m\n\u001b[1;32m     15\u001b[0m \u001b[38;5;28mprint\u001b[39m(cities)\n",
      "\u001b[0;31mIndexError\u001b[0m: list assignment index out of range"
     ]
    }
   ],
   "source": [
    "cities = [\"Laramie\",\"Casper\",\"Jackson Hole\",\"Cheyenne\"]\n",
    "print(cities)\n",
    "\n",
    "#del permanently removes the element at the indexed position.\n",
    "del cities[1]\n",
    "print(cities)\n",
    "\n",
    "del cities[1]\n",
    "print(cities)\n",
    "\n",
    "del cities[1]\n",
    "print(cities)\n",
    "\n",
    "#This last del will cause an error, as there is no longer an index position 1.\n",
    "del cities[1]\n",
    "print(cities)"
   ]
  },
  {
   "cell_type": "code",
   "execution_count": 27,
   "metadata": {
    "slideshow": {
     "slide_type": "slide"
    }
   },
   "outputs": [
    {
     "name": "stdout",
     "output_type": "stream",
     "text": [
      "['Laramie', 'Casper', 'Jackson Hole', 'Cheyenne']\n",
      "We removed Cheyenne\n",
      "['Laramie', 'Casper', 'Jackson Hole']\n",
      "Cheyenne\n"
     ]
    }
   ],
   "source": [
    "cities = [\"Laramie\",\"Casper\",\"Jackson Hole\",\"Cheyenne\"]\n",
    "print(cities)\n",
    "\n",
    "city1 = cities.pop()\n",
    "print(f\"We removed {city1}\")\n",
    "print(cities)\n",
    "print(city1)"
   ]
  },
  {
   "cell_type": "code",
   "execution_count": 7,
   "metadata": {
    "slideshow": {
     "slide_type": "slide"
    }
   },
   "outputs": [
    {
     "name": "stdout",
     "output_type": "stream",
     "text": [
      "['Laramie', 'Casper', 'Jackson Hole', 'Cheyenne']\n",
      "We removed Casper\n",
      "['Laramie', 'Jackson Hole', 'Cheyenne']\n"
     ]
    }
   ],
   "source": [
    "cities = [\"Laramie\",\"Casper\",\"Jackson Hole\",\"Cheyenne\"]\n",
    "print(cities)\n",
    "\n",
    "print(f\"We removed {cities.pop(1)}\")\n",
    "\n",
    "print(cities)"
   ]
  },
  {
   "cell_type": "code",
   "execution_count": 31,
   "metadata": {
    "slideshow": {
     "slide_type": "slide"
    }
   },
   "outputs": [
    {
     "name": "stdout",
     "output_type": "stream",
     "text": [
      "['Blue', 'Green', 'Purple', 'Yellow', 'Red', 'Orange', 'Green']\n",
      "['Blue', 'Purple', 'Yellow', 'Red', 'Orange', 'Green']\n"
     ]
    }
   ],
   "source": [
    "colors = [\"Blue\", \"Green\", \"Purple\", \"Yellow\", \"Red\", \"Orange\", \"Green\"]\n",
    "print(colors)\n",
    "\n",
    "colors.remove(\"Green\")\n",
    "\n",
    "print(colors)"
   ]
  },
  {
   "cell_type": "code",
   "execution_count": 34,
   "metadata": {
    "slideshow": {
     "slide_type": "slide"
    }
   },
   "outputs": [
    {
     "name": "stdout",
     "output_type": "stream",
     "text": [
      "['Laramie', 'Casper', 'Jackson Hole', 'Cheyenne']\n",
      "['Casper', 'Cheyenne', 'Jackson Hole', 'Laramie']\n",
      "['Avadakedavra', 'John', 'Porque', 'Who', 'abracadabra', 'google', 'how', 'oh', 'what']\n"
     ]
    }
   ],
   "source": [
    "cities = [\"Laramie\",\"Casper\",\"Jackson Hole\",\"Cheyenne\"]\n",
    "print(cities)\n",
    "\n",
    "cities.sort() \n",
    "print(cities)\n",
    "\n",
    "words = [\"Who\", \"what\", \"how\", \"Porque\", \"oh\", \"John\", \"google\", \"abracadabra\", \"Avadakedavra\"]\n",
    "words.sort()\n",
    "print(words)"
   ]
  },
  {
   "cell_type": "code",
   "execution_count": 12,
   "metadata": {
    "slideshow": {
     "slide_type": "slide"
    }
   },
   "outputs": [
    {
     "name": "stdout",
     "output_type": "stream",
     "text": [
      "['Laramie', 'Casper', 'Jackson Hole', 'Cheyenne']\n",
      "['Laramie', 'Jackson Hole', 'Cheyenne', 'Casper']\n"
     ]
    }
   ],
   "source": [
    "cities = [\"Laramie\",\"Casper\",\"Jackson Hole\",\"Cheyenne\"]\n",
    "print(cities)\n",
    "\n",
    "cities.sort(reverse=True) \n",
    "print(cities)"
   ]
  },
  {
   "cell_type": "code",
   "execution_count": 38,
   "metadata": {
    "slideshow": {
     "slide_type": "slide"
    }
   },
   "outputs": [
    {
     "name": "stdout",
     "output_type": "stream",
     "text": [
      "['Laramie', 'Casper', 'Jackson Hole', 'Cheyenne']\n",
      "['Casper', 'Cheyenne', 'Jackson Hole', 'Laramie']\n",
      "['Laramie', 'Casper', 'Jackson Hole', 'Cheyenne']\n"
     ]
    }
   ],
   "source": [
    "cities = [\"Laramie\",\"Casper\",\"Jackson Hole\",\"Cheyenne\"]\n",
    "print(cities)\n",
    "\n",
    "sorted_cities = sorted(cities)\n",
    "\n",
    "print(sorted_cities)\n",
    "print(cities)\n"
   ]
  },
  {
   "cell_type": "code",
   "execution_count": 2,
   "metadata": {
    "slideshow": {
     "slide_type": "slide"
    }
   },
   "outputs": [
    {
     "name": "stdout",
     "output_type": "stream",
     "text": [
      "['Laramie', 'Casper', 'Jackson Hole', 'Cheyenne']\n",
      "['Cheyenne', 'Jackson Hole', 'Casper', 'Laramie']\n",
      "['Laramie', 'Casper', 'Jackson Hole', 'Cheyenne']\n"
     ]
    }
   ],
   "source": [
    "cities = [\"Laramie\",\"Casper\",\"Jackson Hole\",\"Cheyenne\"]\n",
    "print(cities)\n",
    "cities.reverse() \n",
    "print(cities)\n",
    "cities.reverse()\n",
    "print(cities)"
   ]
  },
  {
   "cell_type": "code",
   "execution_count": 3,
   "metadata": {
    "slideshow": {
     "slide_type": "slide"
    }
   },
   "outputs": [
    {
     "name": "stdout",
     "output_type": "stream",
     "text": [
      "4\n"
     ]
    }
   ],
   "source": [
    "cities = [\"Laramie\",\"Casper\",\"Jackson Hole\",\"Cheyenne\"]\n",
    "print(len(cities))"
   ]
  },
  {
   "cell_type": "code",
   "execution_count": 4,
   "metadata": {
    "slideshow": {
     "slide_type": "slide"
    }
   },
   "outputs": [
    {
     "ename": "IndexError",
     "evalue": "list index out of range",
     "output_type": "error",
     "traceback": [
      "\u001b[0;31m---------------------------------------------------------------------------\u001b[0m",
      "\u001b[0;31mIndexError\u001b[0m                                Traceback (most recent call last)",
      "\u001b[0;32m/tmp/ipykernel_1339/3269608785.py\u001b[0m in \u001b[0;36m<module>\u001b[0;34m\u001b[0m\n\u001b[1;32m      1\u001b[0m \u001b[0mcities\u001b[0m \u001b[0;34m=\u001b[0m \u001b[0;34m[\u001b[0m\u001b[0;34m\"Laramie\"\u001b[0m\u001b[0;34m,\u001b[0m\u001b[0;34m\"Casper\"\u001b[0m\u001b[0;34m,\u001b[0m\u001b[0;34m\"Jackson Hole\"\u001b[0m\u001b[0;34m,\u001b[0m\u001b[0;34m\"Cheyenne\"\u001b[0m\u001b[0;34m]\u001b[0m\u001b[0;34m\u001b[0m\u001b[0;34m\u001b[0m\u001b[0m\n\u001b[0;32m----> 2\u001b[0;31m \u001b[0mprint\u001b[0m\u001b[0;34m(\u001b[0m\u001b[0mcities\u001b[0m\u001b[0;34m[\u001b[0m\u001b[0;36m4\u001b[0m\u001b[0;34m]\u001b[0m\u001b[0;34m)\u001b[0m\u001b[0;34m\u001b[0m\u001b[0;34m\u001b[0m\u001b[0m\n\u001b[0m",
      "\u001b[0;31mIndexError\u001b[0m: list index out of range"
     ]
    }
   ],
   "source": [
    "cities = [\"Laramie\",\"Casper\",\"Jackson Hole\",\"Cheyenne\"]\n",
    "print(cities[4])"
   ]
  },
  {
   "cell_type": "markdown",
   "metadata": {
    "slideshow": {
     "slide_type": "skip"
    }
   },
   "source": []
  }
 ],
 "metadata": {
  "celltoolbar": "Slideshow",
  "kernelspec": {
   "display_name": "Python 3 (ipykernel)",
   "language": "python",
   "name": "python3"
  },
  "language_info": {
   "codemirror_mode": {
    "name": "ipython",
    "version": 3
   },
   "file_extension": ".py",
   "mimetype": "text/x-python",
   "name": "python",
   "nbconvert_exporter": "python",
   "pygments_lexer": "ipython3",
   "version": "3.12.1"
  }
 },
 "nbformat": 4,
 "nbformat_minor": 2
}
