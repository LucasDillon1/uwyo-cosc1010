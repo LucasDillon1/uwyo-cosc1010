{
 "cells": [
  {
   "cell_type": "markdown",
   "metadata": {},
   "source": [
    "# <p style=\"text-align: Center;\">Files and Exceptions</p>\n",
    "## <p style=\"text-align: Center;\">University of Wyoming COSC 1010</p>\n",
    "### <p style=\"text-align: Center;\">Adapted from: *Python Crash Course 3rd Ed* By Eric Matthes </p>"
   ]
  },
  {
   "cell_type": "code",
   "execution_count": null,
   "metadata": {},
   "outputs": [
    {
     "name": "stdout",
     "output_type": "stream",
     "text": [
      "3.1415926535\n",
      "  8979323846\n",
      "  2643383279\n"
     ]
    }
   ],
   "source": [
    "from pathlib import Path \n",
    "\n",
    "path = Path('pi.txt')\n",
    "contents = path.read_text()\n",
    "print(contents)\n",
    "\n",
    "# ./ would reference the folder you are in, but not including it does work in this case."
   ]
  },
  {
   "cell_type": "code",
   "execution_count": null,
   "metadata": {},
   "outputs": [
    {
     "name": "stdout",
     "output_type": "stream",
     "text": [
      "<class 'list'>\n",
      "3.1415926535\n",
      "  8979323846\n",
      "  2643383279\n"
     ]
    }
   ],
   "source": [
    "path = Path('pi.txt')\n",
    "\n",
    "# Just creates a variable referencing the text in file 'pi.txt'.\n",
    "contents = path.read_text()\n",
    "\n",
    "# Splits the pi.txt into individual lines.\n",
    "lines = contents.splitlines()\n",
    "print(type(lines))\n",
    "for line in lines:\n",
    "    print(line)"
   ]
  },
  {
   "cell_type": "code",
   "execution_count": 8,
   "metadata": {},
   "outputs": [
    {
     "name": "stdout",
     "output_type": "stream",
     "text": [
      "32\n",
      "3.141592653589793238462643383279\n"
     ]
    }
   ],
   "source": [
    "path = Path('pi.txt')\n",
    "contents = path.read_text()\n",
    "\n",
    "lines = contents.splitlines()\n",
    "pi_string = \"\"\n",
    "for line in lines:\n",
    "    pi_string += line.strip()\n",
    "\n",
    "print(len(pi_string))\n",
    "print(pi_string)"
   ]
  },
  {
   "cell_type": "code",
   "execution_count": null,
   "metadata": {},
   "outputs": [
    {
     "name": "stdout",
     "output_type": "stream",
     "text": [
      "1000002\n",
      "3.14159265358979323846264338327950288419716939937510\n"
     ]
    }
   ],
   "source": [
    "path = Path('pi_million_digits.txt')\n",
    "contents = path.read_text()\n",
    "\n",
    "\n",
    "# Syntax is exactly the same as the much smaller pi.txt file.\n",
    "lines = contents.splitlines()\n",
    "pi_string = \"\"\n",
    "for line in lines:\n",
    "    pi_string += line.strip()\n",
    "\n",
    "print(len(pi_string))\n",
    "print(pi_string[:52])"
   ]
  },
  {
   "cell_type": "code",
   "execution_count": null,
   "metadata": {},
   "outputs": [
    {
     "name": "stdout",
     "output_type": "stream",
     "text": [
      "011806\n",
      "Your birthday is in Pi!\n",
      "123456\n",
      "Birthday not found in Pi\n",
      "213121\n",
      "Your birthday is in Pi!\n",
      "213121\n",
      "Your birthday is in Pi!\n",
      "654321\n",
      "Your birthday is in Pi!\n",
      "654321\n",
      "Your birthday is in Pi!\n",
      "000000\n",
      "Birthday not found in Pi\n",
      "exit\n",
      "Birthdays in pi: ['011806', '213121', '213121', '654321', '654321']\n",
      "Birthdays not in pi:['123456', '000000']\n"
     ]
    }
   ],
   "source": [
    "path = Path('pi_million_digits.txt')\n",
    "contents = path.read_text()\n",
    "\n",
    "lines = contents.splitlines()\n",
    "pi_string = \"\"\n",
    "for line in lines:\n",
    "    pi_string += line.strip()\n",
    "\n",
    "# Made a new file, called it Pi_Birthdays, and assigned it to the var path2.\n",
    "path2 = Path('Pi_Birthdays')\n",
    "\n",
    "# Two lists for keeping trach of birthdays. (I could do one dictionary with birthdays, but lazy.)\n",
    "birthdays_in_pi = []\n",
    "birthdays_not_in_pi = []\n",
    "\n",
    "while True:\n",
    "    birthday = input(\"Please provide your birthday in mmddyy format, type 'exit' to exit.\")\n",
    "    print(birthday)\n",
    "\n",
    "    if birthday == 'exit':\n",
    "        break\n",
    "\n",
    "    if birthday in pi_string:\n",
    "        print(\"Your birthday is in Pi!\")\n",
    "        birthdays_in_pi.append(birthday)\n",
    "    else:\n",
    "        print(\"Birthday not found in Pi\")\n",
    "        birthdays_not_in_pi.append(birthday)\n",
    "\n",
    "path2.write_text(f\"Birthdays in pi: {birthdays_in_pi}\\nBirthdays not in pi:{birthdays_not_in_pi}\")\n",
    "    \n",
    "print(path2.read_text())\n",
    "\n",
    "# Somehow, 123456 is not within the first million digits of pi... whoa."
   ]
  },
  {
   "cell_type": "code",
   "execution_count": null,
   "metadata": {},
   "outputs": [
    {
     "data": {
      "text/plain": [
       "21"
      ]
     },
     "execution_count": 13,
     "metadata": {},
     "output_type": "execute_result"
    }
   ],
   "source": [
    "path = Path('example.txt')\n",
    "\n",
    "# write_text literally just puts in a line of text in a file. However, it does overwrite what was there before.\n",
    "path.write_text('Now we can save data!')\n",
    "\n"
   ]
  },
  {
   "cell_type": "code",
   "execution_count": 15,
   "metadata": {},
   "outputs": [
    {
     "data": {
      "text/plain": [
       "437"
      ]
     },
     "execution_count": 15,
     "metadata": {},
     "output_type": "execute_result"
    }
   ],
   "source": [
    "to_write = \"He always sings raggy music to the cattle as he swings back and forward in the saddle, on a horse - a pretty good horse!\\n\"\n",
    "to_write += \"He's got a syncopated gaiter, and you ought to hear the meter to the roar of his repeater; how they run - yes run!\\n\"\n",
    "to_write += \"when they hear that he's 'a-comin', cause the western folks all know, he's a high-falootin', rootin, tootin', son of a gun from ol' Wyoming,\\n\"\n",
    "to_write += \"Ragtime Cowboy, Talk about your Cowboy, Ragtime Cowboy Joe. \"\n",
    "\n",
    "path = Path(\"ragtime.txt\")\n",
    "path.write_text(to_write)"
   ]
  },
  {
   "cell_type": "code",
   "execution_count": 1,
   "metadata": {},
   "outputs": [
    {
     "ename": "ZeroDivisionError",
     "evalue": "division by zero",
     "output_type": "error",
     "traceback": [
      "\u001b[0;31m---------------------------------------------------------------------------\u001b[0m",
      "\u001b[0;31mZeroDivisionError\u001b[0m                         Traceback (most recent call last)",
      "\u001b[0;32m/tmp/ipykernel_25817/1152173066.py\u001b[0m in \u001b[0;36m<module>\u001b[0;34m\u001b[0m\n\u001b[0;32m----> 1\u001b[0;31m \u001b[0mprint\u001b[0m\u001b[0;34m(\u001b[0m\u001b[0;36m5\u001b[0m\u001b[0;34m/\u001b[0m\u001b[0;36m0\u001b[0m\u001b[0;34m)\u001b[0m\u001b[0;34m\u001b[0m\u001b[0;34m\u001b[0m\u001b[0m\n\u001b[0m",
      "\u001b[0;31mZeroDivisionError\u001b[0m: division by zero"
     ]
    }
   ],
   "source": [
    "print(5/0)"
   ]
  },
  {
   "cell_type": "code",
   "execution_count": null,
   "metadata": {},
   "outputs": [
    {
     "name": "stdout",
     "output_type": "stream",
     "text": [
      "You can't divide by 0!\n",
      "An error occurred...\n"
     ]
    }
   ],
   "source": [
    "try:\n",
    "    print(5/0)\n",
    "except ZeroDivisionError:\n",
    "    print(\"You can't divide by 0!\")\n",
    "\n",
    "\n",
    "# There's also a general except case:\n",
    "try:\n",
    "    1**(1/0)\n",
    "except:\n",
    "    print(\"An error occurred...\")"
   ]
  },
  {
   "cell_type": "code",
   "execution_count": 6,
   "metadata": {},
   "outputs": [
    {
     "name": "stdout",
     "output_type": "stream",
     "text": [
      "Give me two numbers and I will divide them\n",
      "'q' to quit\n"
     ]
    },
    {
     "ename": "ZeroDivisionError",
     "evalue": "division by zero",
     "output_type": "error",
     "traceback": [
      "\u001b[0;31m---------------------------------------------------------------------------\u001b[0m",
      "\u001b[0;31mZeroDivisionError\u001b[0m                         Traceback (most recent call last)",
      "\u001b[0;32m/tmp/ipykernel_25817/3123755407.py\u001b[0m in \u001b[0;36m<module>\u001b[0;34m\u001b[0m\n\u001b[1;32m      8\u001b[0m     \u001b[0;32mif\u001b[0m \u001b[0msecond_num\u001b[0m \u001b[0;34m==\u001b[0m \u001b[0;34m'q'\u001b[0m\u001b[0;34m:\u001b[0m\u001b[0;34m\u001b[0m\u001b[0;34m\u001b[0m\u001b[0m\n\u001b[1;32m      9\u001b[0m         \u001b[0;32mbreak\u001b[0m\u001b[0;34m\u001b[0m\u001b[0;34m\u001b[0m\u001b[0m\n\u001b[0;32m---> 10\u001b[0;31m     \u001b[0manswer\u001b[0m \u001b[0;34m=\u001b[0m \u001b[0mint\u001b[0m\u001b[0;34m(\u001b[0m\u001b[0mfirst_num\u001b[0m\u001b[0;34m)\u001b[0m\u001b[0;34m/\u001b[0m\u001b[0mint\u001b[0m\u001b[0;34m(\u001b[0m\u001b[0msecond_num\u001b[0m\u001b[0;34m)\u001b[0m\u001b[0;34m\u001b[0m\u001b[0;34m\u001b[0m\u001b[0m\n\u001b[0m\u001b[1;32m     11\u001b[0m     \u001b[0mprint\u001b[0m\u001b[0;34m(\u001b[0m\u001b[0manswer\u001b[0m\u001b[0;34m)\u001b[0m\u001b[0;34m\u001b[0m\u001b[0;34m\u001b[0m\u001b[0m\n",
      "\u001b[0;31mZeroDivisionError\u001b[0m: division by zero"
     ]
    }
   ],
   "source": [
    "print(\"Give me two numbers and I will divide them\\n'q' to quit\")\n",
    "\n",
    "while True:\n",
    "    first_num = input(\"\\nfirst number: \")\n",
    "    if first_num == 'q':\n",
    "        break \n",
    "    second_num = input('second number: ')\n",
    "    if second_num == 'q':\n",
    "        break \n",
    "    answer = int(first_num)/int(second_num)\n",
    "    print(answer)"
   ]
  },
  {
   "cell_type": "code",
   "execution_count": 7,
   "metadata": {},
   "outputs": [
    {
     "name": "stdout",
     "output_type": "stream",
     "text": [
      "Give me two numbers and I will divide them\n",
      "'q' to quit\n",
      "Can't divide by zero!\n"
     ]
    }
   ],
   "source": [
    "print(\"Give me two numbers and I will divide them\\n'q' to quit\")\n",
    "\n",
    "while True:\n",
    "    first_num = input(\"\\nfirst number: \")\n",
    "    if first_num == 'q':\n",
    "        break \n",
    "    second_num = input('second number: ')\n",
    "    if second_num == 'q':\n",
    "        break \n",
    "    try:\n",
    "        answer = int(first_num)/int(second_num)\n",
    "    except ZeroDivisionError:\n",
    "        print(\"Can't divide by zero!\")\n",
    "    else:\n",
    "        print(answer)"
   ]
  },
  {
   "cell_type": "code",
   "execution_count": null,
   "metadata": {},
   "outputs": [
    {
     "ename": "FileNotFoundError",
     "evalue": "[Errno 2] No such file or directory: 'fakefile.nowhere'",
     "output_type": "error",
     "traceback": [
      "\u001b[0;31m---------------------------------------------------------------------------\u001b[0m",
      "\u001b[0;31mFileNotFoundError\u001b[0m                         Traceback (most recent call last)",
      "\u001b[0;32m/tmp/ipykernel_25817/2510817648.py\u001b[0m in \u001b[0;36m<module>\u001b[0;34m\u001b[0m\n\u001b[1;32m      2\u001b[0m \u001b[0;34m\u001b[0m\u001b[0m\n\u001b[1;32m      3\u001b[0m \u001b[0mpath\u001b[0m \u001b[0;34m=\u001b[0m \u001b[0mPath\u001b[0m\u001b[0;34m(\u001b[0m\u001b[0;34m\"fakefile.nowhere\"\u001b[0m\u001b[0;34m)\u001b[0m\u001b[0;34m\u001b[0m\u001b[0;34m\u001b[0m\u001b[0m\n\u001b[0;32m----> 4\u001b[0;31m \u001b[0mcontents\u001b[0m \u001b[0;34m=\u001b[0m \u001b[0mpath\u001b[0m\u001b[0;34m.\u001b[0m\u001b[0mread_text\u001b[0m\u001b[0;34m(\u001b[0m\u001b[0mencoding\u001b[0m\u001b[0;34m=\u001b[0m\u001b[0;34m'utf-8'\u001b[0m\u001b[0;34m)\u001b[0m\u001b[0;34m\u001b[0m\u001b[0;34m\u001b[0m\u001b[0m\n\u001b[0m",
      "\u001b[0;32m/usr/lib/python3.10/pathlib.py\u001b[0m in \u001b[0;36mread_text\u001b[0;34m(self, encoding, errors)\u001b[0m\n\u001b[1;32m   1132\u001b[0m         \"\"\"\n\u001b[1;32m   1133\u001b[0m         \u001b[0mencoding\u001b[0m \u001b[0;34m=\u001b[0m \u001b[0mio\u001b[0m\u001b[0;34m.\u001b[0m\u001b[0mtext_encoding\u001b[0m\u001b[0;34m(\u001b[0m\u001b[0mencoding\u001b[0m\u001b[0;34m)\u001b[0m\u001b[0;34m\u001b[0m\u001b[0;34m\u001b[0m\u001b[0m\n\u001b[0;32m-> 1134\u001b[0;31m         \u001b[0;32mwith\u001b[0m \u001b[0mself\u001b[0m\u001b[0;34m.\u001b[0m\u001b[0mopen\u001b[0m\u001b[0;34m(\u001b[0m\u001b[0mmode\u001b[0m\u001b[0;34m=\u001b[0m\u001b[0;34m'r'\u001b[0m\u001b[0;34m,\u001b[0m \u001b[0mencoding\u001b[0m\u001b[0;34m=\u001b[0m\u001b[0mencoding\u001b[0m\u001b[0;34m,\u001b[0m \u001b[0merrors\u001b[0m\u001b[0;34m=\u001b[0m\u001b[0merrors\u001b[0m\u001b[0;34m)\u001b[0m \u001b[0;32mas\u001b[0m \u001b[0mf\u001b[0m\u001b[0;34m:\u001b[0m\u001b[0;34m\u001b[0m\u001b[0;34m\u001b[0m\u001b[0m\n\u001b[0m\u001b[1;32m   1135\u001b[0m             \u001b[0;32mreturn\u001b[0m \u001b[0mf\u001b[0m\u001b[0;34m.\u001b[0m\u001b[0mread\u001b[0m\u001b[0;34m(\u001b[0m\u001b[0;34m)\u001b[0m\u001b[0;34m\u001b[0m\u001b[0;34m\u001b[0m\u001b[0m\n\u001b[1;32m   1136\u001b[0m \u001b[0;34m\u001b[0m\u001b[0m\n",
      "\u001b[0;32m/usr/lib/python3.10/pathlib.py\u001b[0m in \u001b[0;36mopen\u001b[0;34m(self, mode, buffering, encoding, errors, newline)\u001b[0m\n\u001b[1;32m   1117\u001b[0m         \u001b[0;32mif\u001b[0m \u001b[0;34m\"b\"\u001b[0m \u001b[0;32mnot\u001b[0m \u001b[0;32min\u001b[0m \u001b[0mmode\u001b[0m\u001b[0;34m:\u001b[0m\u001b[0;34m\u001b[0m\u001b[0;34m\u001b[0m\u001b[0m\n\u001b[1;32m   1118\u001b[0m             \u001b[0mencoding\u001b[0m \u001b[0;34m=\u001b[0m \u001b[0mio\u001b[0m\u001b[0;34m.\u001b[0m\u001b[0mtext_encoding\u001b[0m\u001b[0;34m(\u001b[0m\u001b[0mencoding\u001b[0m\u001b[0;34m)\u001b[0m\u001b[0;34m\u001b[0m\u001b[0;34m\u001b[0m\u001b[0m\n\u001b[0;32m-> 1119\u001b[0;31m         return self._accessor.open(self, mode, buffering, encoding, errors,\n\u001b[0m\u001b[1;32m   1120\u001b[0m                                    newline)\n\u001b[1;32m   1121\u001b[0m \u001b[0;34m\u001b[0m\u001b[0m\n",
      "\u001b[0;31mFileNotFoundError\u001b[0m: [Errno 2] No such file or directory: 'fakefile.nowhere'"
     ]
    }
   ],
   "source": [
    "from pathlib import Path\n",
    "\n",
    "# This part doesn't have an issue\n",
    "path = Path(\"fakefile.nowhere\")\n",
    "\n",
    "# This part does, because there's no \"encoding='utf-8'\" to do stuff with.\n",
    "contents = path.read_text(encoding='utf-8')"
   ]
  },
  {
   "cell_type": "code",
   "execution_count": 11,
   "metadata": {},
   "outputs": [
    {
     "name": "stdout",
     "output_type": "stream",
     "text": [
      "uh oh, file not found\n"
     ]
    }
   ],
   "source": [
    "from pathlib import Path\n",
    "\n",
    "path = Path(\"fakefile.nowhere\")\n",
    "try:\n",
    "    contents = path.read_text(encoding='utf-8')\n",
    "except FileNotFoundError:\n",
    "    print(\"uh oh, file not found\")\n",
    "else:\n",
    "    print(contents)"
   ]
  },
  {
   "cell_type": "code",
   "execution_count": 18,
   "metadata": {},
   "outputs": [
    {
     "name": "stdout",
     "output_type": "stream",
     "text": [
      "The file greatgatsby.txt has about 51225 words\n",
      "268\n"
     ]
    }
   ],
   "source": [
    "path = Path(\"greatgatsby.txt\")\n",
    "try:\n",
    "    contents = path.read_text()\n",
    "except FileNotFoundError:\n",
    "    print(f\"Sorry {path} not found\")\n",
    "else:\n",
    "    print(f\"The file {path} has about {len(contents.split())} words\")\n",
    "    \n",
    "    word = \"Gatsby\"\n",
    "    wordcount = 0\n",
    "    for i in contents.split():\n",
    "        if word in i.title():\n",
    "            wordcount += 1\n",
    "    print(wordcount)\n"
   ]
  },
  {
   "cell_type": "code",
   "execution_count": 14,
   "metadata": {},
   "outputs": [],
   "source": [
    "try:\n",
    "    print(5/0)\n",
    "except:\n",
    "    pass"
   ]
  },
  {
   "cell_type": "code",
   "execution_count": 3,
   "metadata": {},
   "outputs": [
    {
     "name": "stdout",
     "output_type": "stream",
     "text": [
      "<class 'generator'>\n",
      "hp/datasets/hp5.csv\n",
      "hp/datasets/hp3.csv\n",
      "hp/datasets/hp6.csv\n",
      "hp/datasets/hp1.csv\n",
      "hp/datasets/hp4.csv\n",
      "hp/datasets/hp7.csv\n",
      "hp/datasets/movies.csv\n",
      "hp/datasets/hp2.csv\n",
      "hp/datasets/hp8.csv\n",
      "{'\"character\"': 8, '\"Dudley Dursley\"': 36, '\"Gang thug\"': 2, '\"Harry Potter\"': 1887, '\"Arabella Figg\"': 5, '\"Voldemort\"': 110, '\"Lily potter\"': 1, '\"Vernon Dursley\"': 73, '\"Petunia Dursley\"': 33, '\"Alastor Moody\"': 90, '\"Remus Lupin\"': 108, '\"Nymphadora Tonks\"': 11, '\"Kingsley Shacklebolt\"': 10, ' Grimmauld Place\"': 17, '\"Hermione Granger\"': 831, '\"Ron Weasley\"': 863, '\"Molly Weasley\"': 54, '\"Sirius Black\"': 79, '\"Arthur Weasley\"': 88, '\"Witch\"': 7, '\"Perkins\"': 2, '\"Cornelius Fudge\"': 85, '\"Albus Dumbledore\"': 464, '\"Susan Bones\"': 8, '\"Dolores Umbridge\"': 86, '\"Lucius Malfoy\"': 63, '\"Fred Weasley\"': 91, '\"George Weasley\"': 78, '\"Kreacher\"': 15, '\"Luna Lovegood\"': 60, ' Perfect and Prune\"': 16, '\"Minerva McGonagall\"': 125, '\"Angelina Johnson\"': 7, '\"Sybill Trelawney\"': 21, '\"Neville Longbottom\"': 111, '\"Zacharias Smith\"': 2, '\"Justin Finch-Fletchley\"': 2, '\"Ginny Weasley\"': 73, '\"Michael Corner\"': 1, '\"Lee Jordan\"': 13, '\"Lavander Brown\"': 1, '\"Cho Chang\"': 12, '\"Ernest Macmillan\"': 1, '\"Dobby\"': 55, '\"Students\"': 14, '\"Draco Malfoy\"': 103, '\"Rolanda Hooch\"': 15, '\"Rubeus Hagrid\"': 222, '\"Everard\"': 2, '\"Dilys Derwent\"': 1, '\"Phineas\"': 2, '\"Severus Snape\"': 168, '\"Grawp\"': 4, '\"Bane\"': 3, '\"James Potter\"': 17, '\"Lily Potter\"': 15, '\"Griselda Marchbanks\"': 2, '\"Argus Filch\"': 25, '\"Magorian\"': 2, '\"Centaur\"': 2, '\"Bellatrix Lestrange\"': 66, '\"Death Eater\"': 8, '\"Percy Weasley\"': 22, '\"Nearly Headless Nick\"': 15, '\"Marge Dursley\"': 12, '\"Stanley Shunpike\"': 12, '\"Shrunken head\"': 7, '\"Tom\"': 5, '\"Maid\"': 1, '\"Seamus Finnigan\"': 34, '\"The Fat Lady\"': 4, '\"Other\"': 15, '\"Pansy Parkinson\"': 3, '\"Dean Thomas\"': 6, '\"All\"': 6, '\"Parvati Patil\"': 7, '\"Filius Flitwick\"': 12, '\"Vincent Crabbe\"': 7, '\"Rosmerta\"': 10, '\"Ghost\"': 5, '\"Peter Pettigrew\"': 11, ' Truly Free\"': 36, '\"Narcissa Malfoy\"': 11, '\"Waitress\"': 4, '\"Horace Horace Slughorn\"': 1, '\"Horace Slughorn\"': 127, '\"Lavender Brown\"': 9, '\"Blaise Zabini\"': 2, '\"Katie Bell\"': 4, '\"Mrs. Cole\"': 5, '\"Tom Riddle\"': 49, '\"Cormac McLaggen\"': 8, '\"Skinny kid\"': 1, '\"Leanne\"': 3, '\"Marcus Belby\"': 1, '\"Eldred Worple\"': 1, '\"Waiter\"': 2, '\"Fenrir Greyback\"': 3, '\"Snake\"': 1, '\"Man\"': 5, '\"Quirinus Quirrell\"': 17, '\"Boy\"': 5, '\"Goblin\"': 8, '\"Griphook\"': 36, '\"Garrick Ollivander\"': 16, '\"Guard\"': 2, '\"Woman\"': 4, '\"Sorting Hat\"': 11, '\"Bloody Baron\"': 1, '\"Girl\"': 7, '\"Man in a painting\"': 2, '\"Class\"': 2, '\"Boy 2\"': 1, '\"Oliver Wood\"': 14, '\"Gryffindors\"': 1, '\"Marcus Flint\"': 6, '\"Crowd\"': 1, '\"Ghosts\"': 1, '\"Firenze\"': 5, '\"Old man\"': 1, '\"Bartemius Crouch Junior\"': 5, '\"Amos Diggory\"': 9, '\"Cedric Diggory\"': 16, '\"Announcer\"': 1, '\"Bartemius Crouch\"': 26, '\"Trolley witch\"': 3, '\"Student\"': 7, '\"Igor Karkaroff\"': 15, '\"Olympe Maxime\"': 8, '\"Rita Skeeter\"': 12, '\"Viktor Krum\"': 2, '\"Nigel Wolpert\"': 2, '\"Padma Patil\"': 3, '\"Voldermort\"': 1, '\"Moaning Myrtle\"': 20, '\"Merpeople\"': 2, '\"Fleur Delacour\"': 7, ' Blood and Bone\"': 21, '\"Rufus Scrimgeour\"': 14, '\"Mrs. Granger\"': 4, '\"Mr. Granger\"': 2, '\"Corban Yaxley\"': 8, '\"Pius Thicknesse\"': 4, '\"Charity Burbage\"': 1, '\"Bill Weasley\"': 8, '\"Mundungus Fletcher\"': 7, '\"Voldemont\"': 2, '\"Xenophilius Lovegood\"': 25, '\"Elphias Doge\"': 11, '\"Muriel\"': 7, '\"Patronus\"': 1, '\"Wizard\"': 6, '\"Wakanda\"': 1, '\"Mary Cattermole\"': 6, '\"Mykew Gregorovitch\"': 1, '\"Scabior\"': 13, '\"Bathilda Bagshot\"': 2, '\"Gellert Grindelwald\"': 3, '\"Snatcher\"': 3, '\"Photographer\"': 2, '\"Gilderoy Lockhart\"': 47, '\"Station guard\"': 1, '\"Whomping Willow\"': 1, '\"Pomona Sprout\"': 7, '\"Collin Creevey\"': 2, '\"Howler\"': 1, '\"Pixie\"': 4, '\"Basilisk\"': 5, '\"Poppy Pomfrey\"': 6, '\"Gregory Goyle\"': 3, '\"Diary\"': 3, ' can you hear me?\"': 27, ' quicker and smarter.\"': 13, '\"Aragog\"': 8, '\"Bogrod\"': 10, '\"Aberforth Dumbledore\"': 18, '\"Alecto Carrow\"': 1, '\"Pansy parkinson\"': 2, '\"Professors\"': 1, '\"Helena Ravenclaw\"': 12, '\"Albus Potter\"': 6}\n"
     ]
    }
   ],
   "source": [
    "from pathlib import Path\n",
    "\n",
    "\n",
    "paths = Path('./hp/datasets').glob('**/*.csv')\n",
    "\n",
    "print(type(paths))\n",
    "\n",
    "characters = {}\n",
    "for path in paths:\n",
    "    if path == './hp/datasets/movies.csv':\n",
    "        continue\n",
    "    else:\n",
    "        print(path)\n",
    "        try:\n",
    "            contents = path.read_text()\n",
    "        except:\n",
    "            print(\"Failure reading a file.\")\n",
    "        else:\n",
    "            lines = contents.splitlines()\n",
    "            for line in lines:\n",
    "                split_line = line.split(\",\")\n",
    "                try:\n",
    "                    if split_line[2] in characters:\n",
    "                        characters[split_line[2]] += 1\n",
    "                    else:\n",
    "                        characters[split_line[2]] = 1\n",
    "                except:\n",
    "                    pass\n",
    "\n",
    "print(characters)\n",
    "\n",
    "\n"
   ]
  },
  {
   "cell_type": "code",
   "execution_count": null,
   "metadata": {},
   "outputs": [],
   "source": []
  }
 ],
 "metadata": {
  "kernelspec": {
   "display_name": "Python 3",
   "language": "python",
   "name": "python3"
  },
  "language_info": {
   "codemirror_mode": {
    "name": "ipython",
    "version": 3
   },
   "file_extension": ".py",
   "mimetype": "text/x-python",
   "name": "python",
   "nbconvert_exporter": "python",
   "pygments_lexer": "ipython3",
   "version": "3.12.1"
  }
 },
 "nbformat": 4,
 "nbformat_minor": 2
}
